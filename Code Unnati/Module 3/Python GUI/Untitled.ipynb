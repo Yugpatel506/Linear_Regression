{
 "cells": [
  {
   "cell_type": "code",
   "execution_count": 1,
   "id": "0ceea5bc",
   "metadata": {},
   "outputs": [],
   "source": [
    "import tkinter as tk"
   ]
  },
  {
   "cell_type": "code",
   "execution_count": 2,
   "id": "c74eae22",
   "metadata": {},
   "outputs": [],
   "source": [
    "window=tk.Tk()\n",
    "window.title('Welcome')\n",
    "label=tk.Label(window,text='HI',font=('Arial Bold',40)).grid(column=0,row=0)\n",
    "window.mainloop()"
   ]
  },
  {
   "cell_type": "code",
   "execution_count": 26,
   "id": "4530a0b5",
   "metadata": {},
   "outputs": [],
   "source": [
    "window=tk.Tk()\n",
    "window.title('Welcome')\n",
    "label=tk.Button(window,text='abe saale!',font=('Arial Bold',200),bg='red',fg='white').grid(column=0,row=0)\n",
    "window.mainloop()"
   ]
  },
  {
   "cell_type": "code",
   "execution_count": 37,
   "id": "c8a8014d",
   "metadata": {},
   "outputs": [],
   "source": [
    "window=tk.Tk()\n",
    "window.title('Welcome')\n",
    "def sms():\n",
    "    label=tk.Label(window,text='buldosar pe chad ke marunga!!!!',font=('Arial Bold',40),bg='black',fg='white').pack()\n",
    "    \n",
    "button=tk.Button(window,text='abe saale!',font=(\"Arial Bold\",50),bg='red',fg='white',command=sms).pack()\n",
    "window.mainloop()"
   ]
  },
  {
   "cell_type": "code",
   "execution_count": 53,
   "id": "6b2d1231",
   "metadata": {},
   "outputs": [],
   "source": [
    "from tkinter import ttk\n",
    "window=tk.Tk()\n",
    "window.title('Welcome')\n",
    "   \n",
    "drop_box=ttk.Combobox(window,font=(\"Arial Bold\",50))\n",
    "drop_box['values']=(os.listdir())\n",
    "drop_box.grid(column=0,row=0)\n",
    "\n",
    "window.mainloop()"
   ]
  },
  {
   "cell_type": "code",
   "execution_count": 51,
   "id": "ccef855e",
   "metadata": {},
   "outputs": [
    {
     "data": {
      "text/plain": [
       "['.ipynb_checkpoints', 'Untitled.ipynb']"
      ]
     },
     "execution_count": 51,
     "metadata": {},
     "output_type": "execute_result"
    }
   ],
   "source": [
    "import os\n",
    "os.listdir() \n"
   ]
  },
  {
   "cell_type": "code",
   "execution_count": 60,
   "id": "73ec2f72",
   "metadata": {},
   "outputs": [],
   "source": [
    "from tkinter import ttk\n",
    "window=tk.Tk()\n",
    "window.title('Welcome')\n",
    "   \n",
    "chk_status=tk.BooleanVar()\n",
    "chk_status.set(True)\n",
    "chk=ttk.Checkbutton(window,text='Login',var=chk_status).pack()\n",
    "\n",
    "window.mainloop()"
   ]
  },
  {
   "cell_type": "code",
   "execution_count": 14,
   "id": "1e7ecbde",
   "metadata": {},
   "outputs": [
    {
     "name": "stderr",
     "output_type": "stream",
     "text": [
      "Exception in Tkinter callback\n",
      "Traceback (most recent call last):\n",
      "  File \"C:\\Users\\SAP\\anaconda3\\lib\\tkinter\\__init__.py\", line 1892, in __call__\n",
      "    return self.func(*args)\n",
      "  File \"C:\\Users\\SAP\\AppData\\Local\\Temp\\ipykernel_7624\\4170694384.py\", line 6, in sms\n",
      "    label =tk.Label(messagebox.showinfo(\"Message content\",\"buldosar pe chad ke marunga!!!!\"),font=('Arial Bold',40),bg='black',fg='white').pack()\n",
      "  File \"C:\\Users\\SAP\\anaconda3\\lib\\tkinter\\__init__.py\", line 3148, in __init__\n",
      "    Widget.__init__(self, master, 'label', cnf, kw)\n",
      "  File \"C:\\Users\\SAP\\anaconda3\\lib\\tkinter\\__init__.py\", line 2566, in __init__\n",
      "    BaseWidget._setup(self, master, cnf)\n",
      "  File \"C:\\Users\\SAP\\anaconda3\\lib\\tkinter\\__init__.py\", line 2535, in _setup\n",
      "    self.tk = master.tk\n",
      "AttributeError: 'str' object has no attribute 'tk'\n"
     ]
    }
   ],
   "source": [
    "from tkinter import ttk\n",
    "from tkinter import messagebox\n",
    "window=tk.Tk()\n",
    "window.title('Welcome')\n",
    "def sms():\n",
    "    label =tk.Label(messagebox.showinfo(\"Message content\",\"buldosar pe chad ke marunga!!!!\"),font=('Arial Bold',40),bg='black',fg='white').pack()\n",
    "    \n",
    "button=tk.Button(window,text='abe saale!',font=(\"Arial Bold\",50),bg='red',fg='white',command=sms).pack()   \n",
    "\n",
    "\n",
    "window.mainloop()"
   ]
  },
  {
   "cell_type": "code",
   "execution_count": 85,
   "id": "863ea772",
   "metadata": {},
   "outputs": [],
   "source": [
    "from tkinter import ttk\n",
    "window=tk.Tk()\n",
    "window.title('Welcome')\n",
    "label=tk.Label(window,text=\"Username:\",font=('Arial',18),fg='blue').grid(column=0,row=0)\n",
    "Username=tk.Entry(window,width=20).grid(column=1,row=0)\n",
    "label=tk.Label(window,text=\"Password:\",font=('Arial',18),fg='blue').grid(column=0,row=1)\n",
    "Password=tk.Entry(window,width=20).grid(column=1,row=1)\n",
    "\n",
    "chk_status=tk.BooleanVar()\n",
    "chk_status.set(True)\n",
    "chk=ttk.Checkbutton(window,text='Login',var=chk_status).grid(columnspan=2)\n",
    "\n",
    "\n",
    "window.mainloop()"
   ]
  },
  {
   "cell_type": "code",
   "execution_count": 111,
   "id": "9da6e1a5",
   "metadata": {},
   "outputs": [],
   "source": [
    "from tkinter import ttk\n",
    "window=tk.Tk()\n",
    "window.title('Welcome')\n",
    "\n",
    "spin=tk.Spinbox(window,width=5,from_=0,to=10,font=(10)).pack(side=\"bottom\")\n",
    "\n",
    "\n",
    "window.mainloop()"
   ]
  },
  {
   "cell_type": "code",
   "execution_count": 124,
   "id": "64c84757",
   "metadata": {},
   "outputs": [],
   "source": [
    "from tkinter import ttk\n",
    "window=tk.Tk()\n",
    "window.title('Welcome')\n",
    "\n",
    "radio=tk.Radiobutton(window,text='Batch 1',value=1).grid(column=0,row=0)\n",
    "radio=tk.Radiobutton(window,text='Batch 2',value=2).grid(column=1,row=0)\n",
    "\n",
    "\n",
    "\n",
    "window.mainloop()"
   ]
  },
  {
   "cell_type": "code",
   "execution_count": 136,
   "id": "cfd213b6",
   "metadata": {},
   "outputs": [],
   "source": [
    "from tkinter import ttk\n",
    "window=tk.Tk()\n",
    "window.geometry(\"300x300\")\n",
    "window.configure(bg=\"blue\")\n",
    "window.title('Welcome')\n",
    "\n",
    "radio=tk.Radiobutton(window,text='Batch 1',value=1).grid(column=0,row=0)\n",
    "radio=tk.Radiobutton(window,text='Batch 2',value=2).grid(column=1,row=0)\n",
    "\n",
    "\n",
    "\n",
    "window.mainloop()"
   ]
  },
  {
   "cell_type": "code",
   "execution_count": null,
   "id": "a50fd98a",
   "metadata": {},
   "outputs": [],
   "source": []
  }
 ],
 "metadata": {
  "kernelspec": {
   "display_name": "Python 3 (ipykernel)",
   "language": "python",
   "name": "python3"
  },
  "language_info": {
   "codemirror_mode": {
    "name": "ipython",
    "version": 3
   },
   "file_extension": ".py",
   "mimetype": "text/x-python",
   "name": "python",
   "nbconvert_exporter": "python",
   "pygments_lexer": "ipython3",
   "version": "3.9.12"
  }
 },
 "nbformat": 4,
 "nbformat_minor": 5
}
